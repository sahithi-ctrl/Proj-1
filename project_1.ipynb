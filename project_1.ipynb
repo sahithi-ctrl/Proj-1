{
  "nbformat": 4,
  "nbformat_minor": 0,
  "metadata": {
    "colab": {
      "provenance": []
    },
    "kernelspec": {
      "name": "python3",
      "display_name": "Python 3"
    },
    "language_info": {
      "name": "python"
    }
  },
  "cells": [
    {
      "cell_type": "code",
      "execution_count": null,
      "metadata": {
        "id": "qWlcXvfOlhSW"
      },
      "outputs": [],
      "source": [
        "!pip install mysql-connector-python"
      ]
    },
    {
      "cell_type": "code",
      "source": [
        "import mysql.connector\n",
        "\n",
        "# this is taken fro!pip install mysql-connector-pythonm the github code for forming a connection to the database\n",
        "cnx = mysql.connector.connect(user='umls', password='umls', host='172.16.34.1', port='3307', database='umls2019')\n",
        "\n",
        "cursor = cnx.cursor()\n",
        "\n",
        "# find circlesdatabases that is the \n",
        "query = '''\n",
        "    SELECT  c1.str AS node1, c2.str AS node2, c3.str AS node3\n",
        "    FROM MRCONSO c1\n",
        "    JOIN MRREL r1 ON c1.cui = r1.cui1\n",
        "    JOIN MRCONSO c2 ON r1.cui2 = c2.cui\n",
        "    JOIN MRREL r2 ON c2.cui = r2.cui1\n",
        "    JOIN MRCONSO c3 ON r2.cui2 = c3.cui\n",
        "    JOIN MRREL r3 ON c3.cui = r3.cui1\n",
        "    JOIN MRCONSO c4 ON r3.cui2 = c4.cui AND c4.TS = 'P'\n",
        "    WHERE c1.tty = 'MSH' AND c2.tty = 'MSH' AND c3.tty = 'MSH' AND c4.tty = 'MSH'\n",
        "    AND c1.str != c2.str AND c2.str != c3.str AND c3.str != c1.str AND c1.str != c4.str\n",
        "    AND c2.str != c4.str AND c3.str != c4.str AND c1.str < c2.str AND c2.str < c3.str\n",
        "    AND c1.cui != c2.cui AND c2.cui != c3.cui AND c3.cui != c1.cui AND c1.cui != c4.cui\n",
        "    AND c2.cui != c4.cui AND c3.cui != c4.cui AND c1.cui < c2.cui AND c2.cui < c3.cui\n",
        "    AND c1.cui IN (\n",
        "        SELECT cui1 FROM MRREL WHERE rel = 'isa' AND cui2 = 'C0010054' AND stype2 = 'PT'\n",
        "'''\n",
        "\n",
        "cursor.execute(query)\n",
        "\n",
        "# get results\n",
        "results = cursor.fetchall()\n",
        "\n",
        "# find circles with at least 3 and less than 40 different nodes\n",
        "circles = set()\n",
        "for result in results:\n",
        "    circle = sorted(result)\n",
        "    if len(circle) >= 3 and len(circle) < 40:\n",
        "        circles.add(tuple(circle))\n",
        "\n",
        "# output the first 3 circles found\n",
        "for i, circle in enumerate(circles):\n",
        "    if i >= 3:\n",
        "        break\n",
        "    circle_str = \" to \".join(circle) + \" to \" + circle[0]\n",
        "    print(\"Circle {}: {}\".format(i+1, circle_str))\n",
        "    \n",
        "# close cursor and connection\n",
        "cursor.close()\n",
        "cnx.close()\n"
      ],
      "metadata": {
        "id": "TZxO3rPjlmMA"
      },
      "execution_count": null,
      "outputs": []
    }
  ]
}